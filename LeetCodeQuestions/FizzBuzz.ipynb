{
 "cells": [
  {
   "cell_type": "markdown",
   "id": "eca42a7e",
   "metadata": {},
   "source": [
    "https://leetcode.com/problems/fizz-buzz/description/"
   ]
  },
  {
   "cell_type": "code",
   "execution_count": 21,
   "id": "112026fc",
   "metadata": {},
   "outputs": [],
   "source": [
    "from typing import List\n",
    "def fizzBuzz(n: int) -> List[str]:\n",
    "    res = []\n",
    "    i = 1\n",
    "    while i <= n:\n",
    "        if i % 3 == 0 and i % 5 == 0:\n",
    "            res.append(\"FizzBuzz\")\n",
    "        elif i % 3 == 0:\n",
    "            res.append(\"Fizz\")\n",
    "        elif(i % 5 == 0):\n",
    "            res.append(\"Buzz\")\n",
    "        else:\n",
    "            res.append(f'{i}')\n",
    "        i += 1\n",
    "    return res"
   ]
  },
  {
   "cell_type": "code",
   "execution_count": 22,
   "id": "ea60848b",
   "metadata": {},
   "outputs": [
    {
     "name": "stdout",
     "output_type": "stream",
     "text": [
      "['1', '2', 'Fizz']\n"
     ]
    }
   ],
   "source": [
    "num = 3\n",
    "print(fizzBuzz(num))"
   ]
  },
  {
   "cell_type": "markdown",
   "id": "d2ebcb4d",
   "metadata": {},
   "source": [
    "2nd Version with python way 😅"
   ]
  },
  {
   "cell_type": "code",
   "execution_count": 24,
   "id": "37903c34",
   "metadata": {},
   "outputs": [],
   "source": [
    "def fizzBuzz1(n: int) -> List[str]:\n",
    "    return [\n",
    "        \"FizzBuzz\" if i % 15 == 0 else\n",
    "        \"Fizz\" if i % 3 == 0 else\n",
    "        \"Buzz\" if i % 5 == 0 else\n",
    "        str(i)\n",
    "        for i in range(1, n + 1)\n",
    "    ]"
   ]
  },
  {
   "cell_type": "code",
   "execution_count": 25,
   "id": "f56af128",
   "metadata": {},
   "outputs": [
    {
     "name": "stdout",
     "output_type": "stream",
     "text": [
      "['1', '2', 'Fizz']\n"
     ]
    }
   ],
   "source": [
    "num = 3\n",
    "print(fizzBuzz1(num))"
   ]
  }
 ],
 "metadata": {
  "kernelspec": {
   "display_name": "Python 3",
   "language": "python",
   "name": "python3"
  },
  "language_info": {
   "codemirror_mode": {
    "name": "ipython",
    "version": 3
   },
   "file_extension": ".py",
   "mimetype": "text/x-python",
   "name": "python",
   "nbconvert_exporter": "python",
   "pygments_lexer": "ipython3",
   "version": "3.12.0"
  }
 },
 "nbformat": 4,
 "nbformat_minor": 5
}
