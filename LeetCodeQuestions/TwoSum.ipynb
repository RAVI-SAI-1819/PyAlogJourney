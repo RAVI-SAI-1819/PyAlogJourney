{
 "cells": [
  {
   "cell_type": "markdown",
   "id": "52230fcc",
   "metadata": {},
   "source": [
    "Given an array of integers nums and an integer target, return indices of the two numbers such that they add up to target.\n",
    "\n",
    "You may assume that each input would have exactly one solution, and you may not use the same element twice.\n",
    "\n",
    "You can return the answer in any order.\n",
    "\n",
    " \n",
    "\n",
    "Example 1:\n",
    "\n",
    "Input: nums = [2,7,11,15], target = 9\n",
    "Output: [0,1]\n",
    "Explanation: Because nums[0] + nums[1] == 9, we return [0, 1].\n",
    "\n",
    "Example 2:\n",
    "\n",
    "Input: nums = [3,2,4], target = 6\n",
    "Output: [1,2]\n",
    "\n",
    "Example 3:\n",
    "\n",
    "Input: nums = [3,3], target = 6\n",
    "Output: [0,1]\n",
    "\n",
    " \n",
    "\n",
    "Constraints:\n",
    "\n",
    "    2 <= nums.length <= 104\n",
    "    -109 <= nums[i] <= 109\n",
    "    -109 <= target <= 109\n",
    "    Only one valid answer exists.\n",
    "\n",
    " \n",
    "Follow-up: Can you come up with an algorithm that is less than O(n2) time complexity?"
   ]
  },
  {
   "cell_type": "code",
   "execution_count": 27,
   "id": "84a70adb",
   "metadata": {},
   "outputs": [],
   "source": [
    "from typing import List\n",
    "class Solution:\n",
    "    def twoSum(self, nums: List[int], target: int) -> List[int]:\n",
    "        for i in range(len(nums) - 1):\n",
    "            for j in range(i+1, len(nums)):\n",
    "                targetSum = nums[i]+ nums[j]\n",
    "                if targetSum == target:\n",
    "                    return [i, j]\n",
    "                else:\n",
    "                    continue"
   ]
  },
  {
   "cell_type": "code",
   "execution_count": 28,
   "id": "1a4e4b87",
   "metadata": {},
   "outputs": [
    {
     "name": "stdout",
     "output_type": "stream",
     "text": [
      "[0, 2]\n"
     ]
    }
   ],
   "source": [
    "s = Solution()\n",
    "nums = [1,2,3,4]\n",
    "target = 4\n",
    "print(s.twoSum(nums, target))"
   ]
  },
  {
   "cell_type": "code",
   "execution_count": 31,
   "id": "3e1d3224",
   "metadata": {},
   "outputs": [],
   "source": [
    "from typing import List\n",
    "class Solution2:\n",
    "    def twoSum(self, nums: List[int], target: int) -> List[int]:\n",
    "        seen = {}  # Stores {value: index}\n",
    "        for i, num in enumerate(nums):\n",
    "            complement = target - num\n",
    "            if complement in seen:\n",
    "                return [seen[complement], i]\n",
    "            seen[num] = i"
   ]
  },
  {
   "cell_type": "code",
   "execution_count": 32,
   "id": "d286ec8e",
   "metadata": {},
   "outputs": [
    {
     "name": "stdout",
     "output_type": "stream",
     "text": [
      "[0, 2]\n"
     ]
    }
   ],
   "source": [
    "s2 = Solution2()\n",
    "nums = [1,2,3,4]\n",
    "target = 4\n",
    "print(s2.twoSum(nums, target))"
   ]
  },
  {
   "cell_type": "markdown",
   "id": "d76294d8",
   "metadata": {},
   "source": [
    "# Two Sum — Step-by-Step with seen Dictionary\n",
    "## Problem Statement\n",
    "*Given a list nums and a target value target, return the indices of the two numbers such that they add up to the target.\n",
    "You may assume exactly one solution exists and the same element cannot be used twice.*\n",
    "\n",
    "Walkthrough Example\n",
    "Let’s use:\n",
    "nums = [2, 7, 11, 15]\n",
    "target = 9\n",
    "\n",
    "\n",
    "##### Iteration 1\n",
    "- i = 0, num = 2\n",
    "- complement = 9 - 2 = 7\n",
    "- Is 7 in seen? ➡️ ❌ No\n",
    "- Add 2 to seen\n",
    "→ seen = {2: 0}\n",
    "📝 Note: No match yet, but we’ve stored 2 for future reference.\n",
    "\n",
    "##### Iteration 2\n",
    "- i = 1, num = 7\n",
    "- complement = 9 - 7 = 2\n",
    "- Is 2 in seen? ➡️ ✅ Yes!\n",
    "- Found 2 at index 0\n",
    "- Return: [0, 1]\n",
    "🎉 Success! We’ve found that nums[0] + nums[1] = 9\n",
    "\n",
    "**FinalState of seen:**\n",
    "    ```{2: 0}```\n",
    "\n",
    "\n",
    "We never reached 11 or 15 because we returned early.\n",
    "\n",
    "💡 Visualization Table\n",
    "| Step | Index | Num | Complement | Seen Before | Match Found? | Action Taken          |\n",
    "|------|-------|-----|------------|-------------|---------------|-----------------------|\n",
    "| 1    | 0     | 2   | 7          | {}          | ❌            | Add 2:0 to seen       |\n",
    "| 2    | 1     | 7   | 2          | {2: 0}      | ✅            | Return [0, 1]        |\n",
    "\n",
    "\n",
    "\n",
    "\n",
    "#### Point keep in mind:\n",
    "- complement = target - num is your “what do I need to pair with this?”\n",
    "- seen allows O(1) lookup to find if you’ve seen that value already\n",
    "- The dictionary stores num as key and its index as value\n",
    "- Clean, fast, and memory-efficient solution at O(n)\n",
    "\n"
   ]
  }
 ],
 "metadata": {
  "kernelspec": {
   "display_name": "Python 3",
   "language": "python",
   "name": "python3"
  },
  "language_info": {
   "codemirror_mode": {
    "name": "ipython",
    "version": 3
   },
   "file_extension": ".py",
   "mimetype": "text/x-python",
   "name": "python",
   "nbconvert_exporter": "python",
   "pygments_lexer": "ipython3",
   "version": "3.12.0"
  }
 },
 "nbformat": 4,
 "nbformat_minor": 5
}
