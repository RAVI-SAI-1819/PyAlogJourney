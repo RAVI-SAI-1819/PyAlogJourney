{
 "cells": [
  {
   "cell_type": "markdown",
   "id": "10fccf54",
   "metadata": {},
   "source": [
    "https://leetcode.com/problems/find-the-difference/description/"
   ]
  },
  {
   "cell_type": "code",
   "execution_count": 3,
   "id": "8e9ce334",
   "metadata": {},
   "outputs": [],
   "source": [
    "def findTheDifference(s, t):\n",
    "    sum_s = 0\n",
    "    sum_t = 0\n",
    "    for char in s:\n",
    "        sum_s += ord(char)\n",
    "    for char in t:\n",
    "        sum_t += ord(char)\n",
    "    diff = sum_t - sum_s\n",
    "    return chr(diff)\n"
   ]
  },
  {
   "cell_type": "code",
   "execution_count": 4,
   "id": "5938456c",
   "metadata": {},
   "outputs": [
    {
     "name": "stdout",
     "output_type": "stream",
     "text": [
      "e\n"
     ]
    }
   ],
   "source": [
    "s = 'abcd'\n",
    "t = 'abcde'\n",
    "print(findTheDifference(s, t))"
   ]
  }
 ],
 "metadata": {
  "kernelspec": {
   "display_name": "Python 3",
   "language": "python",
   "name": "python3"
  },
  "language_info": {
   "codemirror_mode": {
    "name": "ipython",
    "version": 3
   },
   "file_extension": ".py",
   "mimetype": "text/x-python",
   "name": "python",
   "nbconvert_exporter": "python",
   "pygments_lexer": "ipython3",
   "version": "3.12.0"
  }
 },
 "nbformat": 4,
 "nbformat_minor": 5
}
