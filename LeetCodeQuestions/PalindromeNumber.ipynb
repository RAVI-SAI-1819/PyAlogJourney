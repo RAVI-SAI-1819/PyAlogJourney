{
 "cells": [
  {
   "cell_type": "markdown",
   "id": "7da148d5",
   "metadata": {},
   "source": [
    "https://leetcode.com/problems/palindrome-number/description/"
   ]
  },
  {
   "cell_type": "code",
   "execution_count": 1,
   "id": "e11b0bdc",
   "metadata": {},
   "outputs": [],
   "source": [
    "class Solution:\n",
    "    def isPalindrome(self, x: int) -> bool:\n",
    "        check = str(x)\n",
    "        return check == check[::-1]"
   ]
  },
  {
   "cell_type": "code",
   "execution_count": 2,
   "id": "58d90497",
   "metadata": {},
   "outputs": [
    {
     "name": "stdout",
     "output_type": "stream",
     "text": [
      "True\n"
     ]
    }
   ],
   "source": [
    "s = Solution()\n",
    "num = 121\n",
    "print(s.isPalindrome(num))"
   ]
  }
 ],
 "metadata": {
  "kernelspec": {
   "display_name": "Python 3",
   "language": "python",
   "name": "python3"
  },
  "language_info": {
   "codemirror_mode": {
    "name": "ipython",
    "version": 3
   },
   "file_extension": ".py",
   "mimetype": "text/x-python",
   "name": "python",
   "nbconvert_exporter": "python",
   "pygments_lexer": "ipython3",
   "version": "3.12.0"
  }
 },
 "nbformat": 4,
 "nbformat_minor": 5
}
