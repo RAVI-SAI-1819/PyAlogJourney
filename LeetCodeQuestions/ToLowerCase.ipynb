{
 "cells": [
  {
   "cell_type": "markdown",
   "id": "1089f969",
   "metadata": {},
   "source": [
    "https://leetcode.com/problems/to-lower-case/description/"
   ]
  },
  {
   "cell_type": "code",
   "execution_count": 2,
   "id": "25490c97",
   "metadata": {},
   "outputs": [
    {
     "name": "stdout",
     "output_type": "stream",
     "text": [
      "ravi\n"
     ]
    }
   ],
   "source": [
    "def toLowerCase(s):\n",
    "    return s.lower()\n",
    "    \n",
    "s = 'RAVI'\n",
    "print(toLowerCase(s))"
   ]
  }
 ],
 "metadata": {
  "kernelspec": {
   "display_name": "Python 3",
   "language": "python",
   "name": "python3"
  },
  "language_info": {
   "codemirror_mode": {
    "name": "ipython",
    "version": 3
   },
   "file_extension": ".py",
   "mimetype": "text/x-python",
   "name": "python",
   "nbconvert_exporter": "python",
   "pygments_lexer": "ipython3",
   "version": "3.12.0"
  }
 },
 "nbformat": 4,
 "nbformat_minor": 5
}
