{
 "cells": [
  {
   "cell_type": "markdown",
   "id": "ec14e126",
   "metadata": {},
   "source": [
    "#### Max Product of Two Integers\n",
    "\n",
    "Find the maximum product of two integers in an array where all elements are positive.\n",
    "\n",
    "Example\n",
    "\n",
    "    arr = [1, 7, 3, 4, 9, 5] \n",
    "    max_product(arr) # Output: 63 (9*7)"
   ]
  },
  {
   "cell_type": "code",
   "execution_count": null,
   "id": "3aa5ab8a",
   "metadata": {},
   "outputs": [],
   "source": [
    "def max_product(arr):\n",
    "    # Initialize two variables to store the two largest numbers\n",
    "    max1, max2 = 0, 0  # O(1), constant time initialization\n",
    "    \n",
    "    # Iterate through the array\n",
    "    for num in arr:  # O(n), where n is the length of the array\n",
    "        # If the current number is greater than max1, update max1 and max2\n",
    "        if num > max1:  # O(1), constant time comparison\n",
    "            max2 = max1  # O(1), constant time assignment\n",
    "            max1 = num  # O(1), constant time assignment\n",
    "        # If the current number is greater than max2 but not max1, update max2\n",
    "        elif num > max2:  # O(1), constant time comparison\n",
    "            max2 = num  # O(1), constant time assignment\n",
    "    \n",
    "    # Return the product of the two largest numbers\n",
    "    return max1 * max2  # O(1), constant time multiplication\n",
    "    \n",
    "arr = [1, 7, 3, 4, 9, 5]\n",
    "print(max_product(arr))  # Output: 63 (9*7)"
   ]
  },
  {
   "cell_type": "markdown",
   "id": "4188377a",
   "metadata": {},
   "source": [
    "**Explanation** :"
   ]
  },
  {
   "cell_type": "markdown",
   "id": "9e87a565",
   "metadata": {},
   "source": [
    "    def max_product(arr):\n",
    "\n",
    "        Define a function named max_product that takes an input array arr.\n",
    "\n",
    "    max1, max2 = 0, 0\n",
    "\n",
    "        Initialize two variables, max1 and max2, to store the two largest numbers in the array. Set both variables to 0 initially.\n",
    "\n",
    "    for num in arr:\n",
    "\n",
    "        Iterate through the elements of the input array arr using a for loop. num represents the current element of the array.\n",
    "\n",
    "    if num > max1:\n",
    "\n",
    "        Check if the current number num is greater than the current maximum value max1.\n",
    "\n",
    "    max2 = max1\n",
    "\n",
    "        If the condition in line 4 is True, update the second-largest number max2 by assigning it the value of the current largest number max1.\n",
    "\n",
    "    max1 = num\n",
    "\n",
    "        Update the largest number max1 by assigning it the value of the current number num.\n",
    "\n",
    "    elif num > max2:\n",
    "\n",
    "        If the condition in line 4 is False, check if the current number num is greater than the current second-largest number max2.\n",
    "\n",
    "    max2 = num\n",
    "\n",
    "        If the condition in line 7 is True, update the second-largest number max2 by assigning it the value of the current number num.\n",
    "\n",
    "    return max1 * max2\n",
    "\n",
    "        After the loop has finished iterating through the array, return the product of the two largest numbers, max1 and max2.\n",
    "\n",
    "\n",
    "Time Complexity:\n",
    "\n",
    "The time complexity of the max_product function is O(n), where n is the length of the input array arr. The reason for this complexity is that the function iterates through the input array once, comparing each element with max1 and max2 to find the two largest elements. There are no nested loops or other time-consuming operations, so the time complexity is linear.\n",
    "\n",
    "Space Complexity:\n",
    "\n",
    "The space complexity of the max_product function is O(1), which means it uses a constant amount of extra memory regardless of the input size. In this case, the function uses two additional variables, max1 and max2, to store the two largest numbers in the array. No other data structures or memory allocations are required, so the space complexity remains constant regardless of the size of the input array."
   ]
  }
 ],
 "metadata": {
  "kernelspec": {
   "display_name": "Python 3",
   "language": "python",
   "name": "python3"
  },
  "language_info": {
   "name": "python",
   "version": "3.12.0"
  }
 },
 "nbformat": 4,
 "nbformat_minor": 5
}
