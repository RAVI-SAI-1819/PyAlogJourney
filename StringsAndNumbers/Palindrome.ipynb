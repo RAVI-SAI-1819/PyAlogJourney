{
 "cells": [
  {
   "cell_type": "markdown",
   "id": "a90bbe5f",
   "metadata": {},
   "source": [
    "### Palindrome\n",
    "\n",
    "\"A palindrome is a string that reads the same forward and backward\"\n",
    "\n",
    "For example: radar or madam\n",
    "\n",
    "Our task is to design an algorithm for checking whether a given string is palindrome or not! The aim is to achieve O(N) linear running time.\n",
    "\n",
    "Good luck!Palindrome exercise\n",
    "\n",
    "\"A palindrome is a string that reads the same forward and backward\"\n",
    "\n",
    "For example: radar or madam\n",
    "\n",
    "Our task is to design an algorithm for checking whether a given string is palindrome or not! The aim is to achieve O(N) linear running time.\n",
    "\n",
    "Good luck!"
   ]
  },
  {
   "cell_type": "code",
   "execution_count": 2,
   "id": "75f95307",
   "metadata": {},
   "outputs": [],
   "source": [
    "# you can define helper methods if needed\n",
    "def is_palindrome(s):\n",
    "    if s == s[::-1]:\n",
    "        return True\n",
    "    return False"
   ]
  },
  {
   "cell_type": "code",
   "execution_count": 3,
   "id": "98c437f7",
   "metadata": {},
   "outputs": [
    {
     "name": "stdout",
     "output_type": "stream",
     "text": [
      "False\n",
      "True\n"
     ]
    }
   ],
   "source": [
    "if __name__ == '__main__':\n",
    "    s  = \"Study\"\n",
    "    print(is_palindrome(s))\n",
    "    s1 = \"madam\"\n",
    "    print(is_palindrome(s1))"
   ]
  },
  {
   "cell_type": "markdown",
   "id": "12a0ee25",
   "metadata": {},
   "source": [
    "#### Another way to implement "
   ]
  },
  {
   "cell_type": "code",
   "execution_count": null,
   "id": "efb18818",
   "metadata": {},
   "outputs": [],
   "source": [
    "def reverse(s):\n",
    "    strList = list(s)\n",
    "    left, right = 0, len(strList) - 1\n",
    "    while left < right :\n",
    "        strList[left],strList[right] = strList[right], strList[left]\n",
    "        left += 1\n",
    "        right -= 1\n",
    "    return ''.join(strList)\n"
   ]
  },
  {
   "cell_type": "code",
   "execution_count": 19,
   "id": "ae074668",
   "metadata": {},
   "outputs": [],
   "source": [
    "def isPalindrome(s):\n",
    "    reversedString =  reverse(s)\n",
    "    if s == reversedString:\n",
    "        return True\n",
    "    return False"
   ]
  },
  {
   "cell_type": "code",
   "execution_count": 20,
   "id": "0c832a24",
   "metadata": {},
   "outputs": [
    {
     "name": "stdout",
     "output_type": "stream",
     "text": [
      "False\n",
      "True\n"
     ]
    }
   ],
   "source": [
    "if __name__ == '__main__':\n",
    "    s  = \"Study\"\n",
    "    print(isPalindrome(s))\n",
    "    s1 = \"madam\"\n",
    "    print(isPalindrome(s1))"
   ]
  }
 ],
 "metadata": {
  "kernelspec": {
   "display_name": "Python 3",
   "language": "python",
   "name": "python3"
  },
  "language_info": {
   "codemirror_mode": {
    "name": "ipython",
    "version": 3
   },
   "file_extension": ".py",
   "mimetype": "text/x-python",
   "name": "python",
   "nbconvert_exporter": "python",
   "pygments_lexer": "ipython3",
   "version": "3.12.0"
  }
 },
 "nbformat": 4,
 "nbformat_minor": 5
}
