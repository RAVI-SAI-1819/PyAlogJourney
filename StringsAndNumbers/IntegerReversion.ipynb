{
 "cells": [
  {
   "cell_type": "markdown",
   "id": "c7378c86",
   "metadata": {},
   "source": [
    "#### Integer reversion exercise\n",
    "\n",
    "Your task is to design an efficient algorithm to reverse a given integer. For example if the input of the algorithm is 1234 then the output should be 4321.\n",
    "\n",
    "NOTE: the input is an integer (and not a string) !!!\n",
    "\n",
    "Good luck!"
   ]
  },
  {
   "cell_type": "code",
   "execution_count": 1,
   "id": "f496d85c",
   "metadata": {},
   "outputs": [],
   "source": [
    "def reverse_integer(n):\n",
    "    # your implementation goes here\n",
    "    nstring  = str(n)\n",
    "    return int(nstring[::-1])"
   ]
  },
  {
   "cell_type": "code",
   "execution_count": 3,
   "id": "ac988772",
   "metadata": {},
   "outputs": [
    {
     "name": "stdout",
     "output_type": "stream",
     "text": [
      "4321\n",
      "12543\n"
     ]
    }
   ],
   "source": [
    "if __name__ == '__main__':\n",
    "    n = 1234\n",
    "    print(reverse_integer(n))\n",
    "    n1 = 34521\n",
    "    print(reverse_integer(n1))"
   ]
  },
  {
   "cell_type": "markdown",
   "id": "5322e6fa",
   "metadata": {},
   "source": [
    "##### Another Method"
   ]
  },
  {
   "cell_type": "code",
   "execution_count": 19,
   "id": "4d9bbcce",
   "metadata": {},
   "outputs": [],
   "source": [
    "def reverseInteger(n):\n",
    "    reversedNum = 0\n",
    "    while (n > 0):\n",
    "        remainder = n%10\n",
    "        n = n//10\n",
    "        reversedNum = reversedNum * 10 + remainder\n",
    "    return reversedNum"
   ]
  },
  {
   "cell_type": "code",
   "execution_count": 20,
   "id": "b732365c",
   "metadata": {},
   "outputs": [
    {
     "data": {
      "text/plain": [
       "4321"
      ]
     },
     "execution_count": 20,
     "metadata": {},
     "output_type": "execute_result"
    }
   ],
   "source": [
    "reverseInteger(1234)"
   ]
  }
 ],
 "metadata": {
  "kernelspec": {
   "display_name": "Python 3",
   "language": "python",
   "name": "python3"
  },
  "language_info": {
   "codemirror_mode": {
    "name": "ipython",
    "version": 3
   },
   "file_extension": ".py",
   "mimetype": "text/x-python",
   "name": "python",
   "nbconvert_exporter": "python",
   "pygments_lexer": "ipython3",
   "version": "3.12.0"
  }
 },
 "nbformat": 4,
 "nbformat_minor": 5
}
