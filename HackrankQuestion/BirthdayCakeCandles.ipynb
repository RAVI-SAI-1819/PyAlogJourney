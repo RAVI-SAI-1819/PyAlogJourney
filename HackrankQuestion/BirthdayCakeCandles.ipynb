{
 "cells": [
  {
   "cell_type": "markdown",
   "id": "5823d08f",
   "metadata": {},
   "source": [
    "https://www.hackerrank.com/challenges/birthday-cake-candles/problem?isFullScreen=true"
   ]
  },
  {
   "cell_type": "code",
   "execution_count": 1,
   "id": "c86d0272",
   "metadata": {},
   "outputs": [],
   "source": [
    "def birthdayCakeCandles(candles):\n",
    "    n = max(candles)\n",
    "    cnt = 0\n",
    "    for i in candles:\n",
    "        if i == n:\n",
    "            cnt += 1\n",
    "    return cnt"
   ]
  },
  {
   "cell_type": "code",
   "execution_count": 2,
   "id": "14fcd7be",
   "metadata": {},
   "outputs": [
    {
     "name": "stdout",
     "output_type": "stream",
     "text": [
      "2\n"
     ]
    }
   ],
   "source": [
    "n = [1,2,4,3,4]\n",
    "print(birthdayCakeCandles(n))"
   ]
  }
 ],
 "metadata": {
  "kernelspec": {
   "display_name": "Python 3",
   "language": "python",
   "name": "python3"
  },
  "language_info": {
   "codemirror_mode": {
    "name": "ipython",
    "version": 3
   },
   "file_extension": ".py",
   "mimetype": "text/x-python",
   "name": "python",
   "nbconvert_exporter": "python",
   "pygments_lexer": "ipython3",
   "version": "3.12.0"
  }
 },
 "nbformat": 4,
 "nbformat_minor": 5
}
