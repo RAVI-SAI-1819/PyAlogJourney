{
 "cells": [
  {
   "cell_type": "markdown",
   "id": "4e52a3c6",
   "metadata": {},
   "source": [
    "https://www.hackerrank.com/challenges/time-conversion/problem?isFullScreen=true"
   ]
  },
  {
   "cell_type": "code",
   "execution_count": 9,
   "id": "f0b336e9",
   "metadata": {},
   "outputs": [
    {
     "name": "stdout",
     "output_type": "stream",
     "text": [
      "7:05:45\n",
      "12:45:32\n",
      "00:32:00\n"
     ]
    }
   ],
   "source": [
    "def timeConversion(s):\n",
    "    checkHourAnnotation = s[-2:]\n",
    "    changeHour = int(s[0:2])\n",
    "    if checkHourAnnotation == 'PM':\n",
    "        if changeHour == 12:\n",
    "            return f'{s[0:-2]}'\n",
    "        return f'{changeHour}:{s[3:-2]}'\n",
    "    else:\n",
    "        if changeHour == 12:\n",
    "            return f'00:{s[3:-2]}'\n",
    "    return f'{s[0:-2]}'        \n",
    "\n",
    "s = '07:05:45PM'\n",
    "s1= '12:45:32PM'\n",
    "s2 = '12:32:00AM'\n",
    "print(timeConversion(s))\n",
    "print(timeConversion(s1))\n",
    "print(timeConversion(s2))"
   ]
  }
 ],
 "metadata": {
  "kernelspec": {
   "display_name": "Python 3",
   "language": "python",
   "name": "python3"
  },
  "language_info": {
   "codemirror_mode": {
    "name": "ipython",
    "version": 3
   },
   "file_extension": ".py",
   "mimetype": "text/x-python",
   "name": "python",
   "nbconvert_exporter": "python",
   "pygments_lexer": "ipython3",
   "version": "3.12.0"
  }
 },
 "nbformat": 4,
 "nbformat_minor": 5
}
