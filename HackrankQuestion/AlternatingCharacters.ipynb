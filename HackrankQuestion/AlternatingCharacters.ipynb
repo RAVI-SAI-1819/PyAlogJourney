{
 "cells": [
  {
   "cell_type": "markdown",
   "id": "14d28e3a",
   "metadata": {},
   "source": [
    "https://www.hackerrank.com/challenges/alternating-characters/problem?isFullScreen=true"
   ]
  },
  {
   "cell_type": "code",
   "execution_count": 7,
   "id": "bcc22ff1",
   "metadata": {},
   "outputs": [],
   "source": [
    "def alternatingCharacters(s):\n",
    "    left, right, deletionCnt = 0, 1 , 0\n",
    "    while right < len(s):\n",
    "        if s[left] == s[right]:\n",
    "            deletionCnt += 1\n",
    "        left = right\n",
    "        right += 1\n",
    "    return deletionCnt"
   ]
  },
  {
   "cell_type": "code",
   "execution_count": 8,
   "id": "5bb38c64",
   "metadata": {},
   "outputs": [
    {
     "name": "stdout",
     "output_type": "stream",
     "text": [
      "3\n"
     ]
    }
   ],
   "source": [
    "s = 'AAAA'\n",
    "print(alternatingCharacters(s))"
   ]
  }
 ],
 "metadata": {
  "kernelspec": {
   "display_name": "Python 3",
   "language": "python",
   "name": "python3"
  },
  "language_info": {
   "codemirror_mode": {
    "name": "ipython",
    "version": 3
   },
   "file_extension": ".py",
   "mimetype": "text/x-python",
   "name": "python",
   "nbconvert_exporter": "python",
   "pygments_lexer": "ipython3",
   "version": "3.12.0"
  }
 },
 "nbformat": 4,
 "nbformat_minor": 5
}
