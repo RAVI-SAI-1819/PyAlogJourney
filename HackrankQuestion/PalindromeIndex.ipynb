{
 "cells": [
  {
   "cell_type": "markdown",
   "id": "616b42b9",
   "metadata": {},
   "source": [
    "#### Given a string of lowercase letters in the range ascii[a-z], determine the index of a character that can be removed to make the string a palindrome. There may be more than one solution, but any will do. If the word is already a palindrome or there is no solution, return -1. Otherwise, return the index of a character to remove.\n",
    "\n",
    "Example\n",
    "s = 'bcbc'\n",
    "Either remove 'b' at index 0 or 'c' at index 3.\n",
    "\n",
    "###### Function Description:\n",
    "Complete the palindromeIndex function in the editor below.\n",
    "\n",
    "palindromeIndex has the following parameter(s):\n",
    "\n",
    "    string s: a string to analyze\n",
    "\n",
    "Returns\n",
    "\n",
    "    int: the index of the character to remove or -1\n",
    "\n",
    "###### Input Format:\n",
    "The first line contains an integer q, the number of queries.\n",
    "Each of the next q lines contains a query string s.\n",
    "\n",
    "###### Constraints:\n",
    "- 1 <= q <= 20\n",
    "- 1 <= length of s <= 10^5 + 5\n",
    "- All characters are in the range ascii[a-z].\n",
    "\n",
    "\n",
    "###### Sample Input:\n",
    "\n",
    "| STDIN |   Function |\n",
    "| ----- |  --------  |\n",
    "|3      | q = 3      |\n",
    "|aaab   | s = 'aaab' (first query) |\n",
    "|baa    | s = 'baa'  (second query) |\n",
    "|aaa    | s = 'aaa'  (third query) |\n",
    "\n",
    "Sample Output:\n",
    "3\n",
    "0\n",
    "-1\n",
    "\n",
    "Explanation:\n",
    "- Query 1: \"aaab\"\n",
    "  - Removing 'b' at index 3 results in a palindrome, so return 3.\n",
    "- Query 2: \"baa\"\n",
    "  - Removing 'b' at index 0 results in a palindrome, so return 0.\n",
    "- Query 3: \"aaa\"\n",
    "  - This string is already a palindrome, so return -1. Removing any one of the characters would result in a palindrome, but this test comes first."
   ]
  },
  {
   "cell_type": "code",
   "execution_count": 13,
   "id": "a6feb4ab",
   "metadata": {},
   "outputs": [],
   "source": [
    "def is_palindrome(s):\n",
    "    # checking if a given string is a palindrome\n",
    "    return s == s[::-1]\n",
    "# Main function to find the index of the character whose removal makes the string a palindrome\n",
    "def palindromeIndex(s):\n",
    "    length = len(s)\n",
    "    for leftSide in range(length // 2):  \n",
    "        rightSide = length - leftSide - 1  # Mirror index from the end\n",
    "\n",
    "        # If characters at mirrored positions don't match, check possible fixes\n",
    "        if s[leftSide] != s[rightSide]:\n",
    "            \n",
    "            # Case 1: Remove the mismatched character from the left\n",
    "            remove_left = s[:leftSide] + s[leftSide + 1:]\n",
    "            # Example: if leftSide = 1 and s = \"bcbc\", remove_left = \"bcc\"\n",
    "            if is_palindrome(remove_left):\n",
    "                return leftSide  # Returning the index to remove\n",
    "\n",
    "            # Case 2: Remove the mismatched character from the right\n",
    "            remove_right = s[:rightSide] + s[rightSide + 1:]\n",
    "            # Example: if rightSide = 3 and s = \"bcbc\", remove_right = \"bcb\"\n",
    "            if is_palindrome(remove_right):\n",
    "                return rightSide  # Returning the index to remove\n",
    "            \n",
    "            # If neither removal results in a palindrome\n",
    "            return -1  \n",
    "    \n",
    "    # If the entire string is already a palindrome\n",
    "    return -1"
   ]
  },
  {
   "cell_type": "markdown",
   "id": "39034610",
   "metadata": {},
   "source": [
    "https://www.youtube.com/watch?v=gd4hCrbYAMg"
   ]
  },
  {
   "cell_type": "markdown",
   "id": "8dda66b0",
   "metadata": {},
   "source": [
    "#### This one from the youtube."
   ]
  },
  {
   "cell_type": "code",
   "execution_count": 12,
   "id": "b48f5aab",
   "metadata": {},
   "outputs": [],
   "source": [
    "def palindromeIndex(s):\n",
    "    # check the string is palindrome\n",
    "    if s == s[::-1]:\n",
    "        return -1\n",
    "    n = len(s)\n",
    "    # Main Logic\n",
    "    for i in range(n//2):\n",
    "        #check the character are different or not\n",
    "        if s[i] != s[n-1-i]:\n",
    "            if s[i:n-1-i] == s[i:n-1-i][::-1]:\n",
    "                return n-1-i\n",
    "            elif s[i+1:n-i] == s[i+1:n-i][::-1]:\n",
    "                return i"
   ]
  }
 ],
 "metadata": {
  "kernelspec": {
   "display_name": "Python 3",
   "language": "python",
   "name": "python3"
  },
  "language_info": {
   "codemirror_mode": {
    "name": "ipython",
    "version": 3
   },
   "file_extension": ".py",
   "mimetype": "text/x-python",
   "name": "python",
   "nbconvert_exporter": "python",
   "pygments_lexer": "ipython3",
   "version": "3.12.0"
  }
 },
 "nbformat": 4,
 "nbformat_minor": 5
}
