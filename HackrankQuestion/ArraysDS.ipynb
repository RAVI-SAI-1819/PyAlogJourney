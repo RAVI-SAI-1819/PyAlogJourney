{
 "cells": [
  {
   "cell_type": "markdown",
   "id": "304f1a30",
   "metadata": {},
   "source": [
    "https://www.hackerrank.com/challenges/arrays-ds/problem"
   ]
  },
  {
   "cell_type": "code",
   "execution_count": 1,
   "id": "844fed85",
   "metadata": {},
   "outputs": [],
   "source": [
    "def reverseArray(a):\n",
    "    left, right = 0, len(a) -1\n",
    "    while left < right:\n",
    "        a[left], a[right] = a[right] , a[left]\n",
    "        left += 1\n",
    "        right -= 1\n",
    "    return a"
   ]
  }
 ],
 "metadata": {
  "kernelspec": {
   "display_name": "Python 3",
   "language": "python",
   "name": "python3"
  },
  "language_info": {
   "codemirror_mode": {
    "name": "ipython",
    "version": 3
   },
   "file_extension": ".py",
   "mimetype": "text/x-python",
   "name": "python",
   "nbconvert_exporter": "python",
   "pygments_lexer": "ipython3",
   "version": "3.12.0"
  }
 },
 "nbformat": 4,
 "nbformat_minor": 5
}
