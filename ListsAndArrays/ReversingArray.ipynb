{
 "cells": [
  {
   "cell_type": "markdown",
   "id": "73ae537b",
   "metadata": {},
   "source": [
    "Reversing an array in-place exercise\n",
    "\n",
    "In this exercise, you have to reverse a list in O(N) linear time complexity and we want the algorithm to be in-place as well - so the algorithm can not use additional memory (it means you have to manipulate the input list and not create an independent list)!\n",
    "\n",
    "For example: input is ```[1,2,3,4,5]``` then the output is ```[5,4,3,2,1]```\n",
    "\n",
    "Good luck!"
   ]
  },
  {
   "cell_type": "code",
   "execution_count": 2,
   "id": "df318984",
   "metadata": {},
   "outputs": [],
   "source": [
    "def reverse(nums):\n",
    "    # your algorithm here - nums is the list containing the items\n",
    "    left, right = 0, len(nums) - 1\n",
    "    while left < right :\n",
    "        nums[left],nums[right] = nums[right], nums[left]\n",
    "        left += 1\n",
    "        right -= 1\n",
    "    return nums"
   ]
  },
  {
   "cell_type": "code",
   "execution_count": 3,
   "id": "18a2b82d",
   "metadata": {},
   "outputs": [
    {
     "name": "stdout",
     "output_type": "stream",
     "text": [
      "[9, 8, 7, 6, 5, 4, 1, 2, 4, 3, 1]\n"
     ]
    }
   ],
   "source": [
    "nums = [1,3,4,2,1,4,5,6,7,8,9]\n",
    "print(reverse(nums))"
   ]
  },
  {
   "cell_type": "markdown",
   "id": "59cba295",
   "metadata": {},
   "source": [
    "# Reversing a List Using the Two-Pointer Technique\n",
    "In this question i used the two pointer do the in place operation of revering the give list or array.\n",
    "#### Concept Overview: Two-Pointer Technique\n",
    "The two-pointer technique is a common algorithmic approach where you use two indices (or \"pointers\") to traverse a data structure from opposite ends (or different starting points) simultaneously.\n",
    "In the case of reversing a list:\n",
    "- One pointer starts from the left (index 0)\n",
    "- One pointer starts from the right (index len(nums) - 1)\n",
    "- At each step, you swap the values at these pointers, then move them toward each other:\n",
    "- left += 1\n",
    "- right -= 1\n",
    "- This continues until the pointers meet or cross\n",
    "This is efficient: you only loop through half the list and use constant space (no extra memory).\n",
    "\n",
    "#### Detailed Breakdown:\n",
    "- Initialize two pointers (l, r)\n",
    "left, right = 0, len(nums) - 1\n",
    "- left starts at the beginning of the list\n",
    "- right starts at the end\n",
    "- Loop until pointers cross\n",
    "while left < right:\n",
    "- We only need to reverse until the center is reached\n",
    "- Swap Operation\n",
    "```nums[left], nums[right] = nums[right], nums[left]```\n",
    "- This line is Pythonic syntactic sugar for swapping without using a temporary variable\n",
    "- It’s equivalent to:\n",
    "temp = nums[left]\n",
    "nums[left] = nums[right]\n",
    "nums[right] = temp\n",
    "- Move the pointers inward\n",
    "left += 1\n",
    "right -= 1\n",
    "\n",
    "\n",
    "- Narrow the scope of reversal on each loop iteration\n",
    "\n",
    "###### Example: Reversing [10, 20, 30, 40, 50]\n",
    "| Step | Left | Right | Swap         | List State                |\n",
    "|------|------|-------|--------------|---------------------------|\n",
    "| 1    | 0    | 4     | 10 ⬌ 50     | [50, 20, 30, 40, 10]      |\n",
    "| 2    | 1    | 3     | 20 ⬌ 40     | [50, 40, 30, 20, 10]      |\n",
    "| 3    | 2    | 2     | (stop)      | Final list reversed        |\n",
    "\n",
    "\n",
    "\n",
    "\n",
    "### Time and Space Complexity :\n",
    "- Time Complexity: O(N)\n",
    "– Each element is visited once (only half the list is swapped)\n",
    "- Space Complexity: O(1)\n",
    "– No new data structures are used\n",
    "\n"
   ]
  },
  {
   "cell_type": "markdown",
   "id": "86f837b6",
   "metadata": {},
   "source": [
    "<img src=\"./FlowCharts/ReverseProblemFlowChart.png\" alt=\"Flow Chart For the Given Problem\" width=\"500\" height=\"500\">"
   ]
  }
 ],
 "metadata": {
  "kernelspec": {
   "display_name": "Python 3",
   "language": "python",
   "name": "python3"
  },
  "language_info": {
   "codemirror_mode": {
    "name": "ipython",
    "version": 3
   },
   "file_extension": ".py",
   "mimetype": "text/x-python",
   "name": "python",
   "nbconvert_exporter": "python",
   "pygments_lexer": "ipython3",
   "version": "3.12.0"
  }
 },
 "nbformat": 4,
 "nbformat_minor": 5
}
