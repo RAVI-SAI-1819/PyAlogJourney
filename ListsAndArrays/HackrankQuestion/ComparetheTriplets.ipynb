{
 "cells": [
  {
   "cell_type": "markdown",
   "id": "a3e3d9c1",
   "metadata": {},
   "source": [
    "Alice and Bob each created one problem for HackerRank. A reviewer rates the two challenges, awarding points on a scale from 1 to 100 for three categories: problem clarity, originality, and difficulty.\n",
    "\n",
    "The rating for Alice's challenge is the triplet a = (a[0], a[1], a[2]), and the rating for Bob's challenge is the triplet b = (b[0], b[1], b[2]).\n",
    "\n",
    "The task is to calculate their comparison points by comparing each category:\n",
    "\n",
    "    If a[i] > b[i], then Alice is awarded 1 point.\n",
    "    If a[i] < b[i], then Bob is awarded 1 point.\n",
    "    If a[i] = b[i], then neither person receives a point.\n",
    "\n",
    "Example\n",
    "\n",
    "a = [1, 2, 3]\n",
    "b = [3, 2, 1]\n",
    "\n",
    "    For elements *0*, Bob is awarded a point because a[0] < b[0].\n",
    "    For the equal elements a[1] and b[1], no points are earned.\n",
    "    Finally, for elements 2, a[2] > b[2] so Alice receives a point.\n",
    "\n",
    "The return array is [1, 1] with Alice's score first and Bob's second.\n",
    "\n",
    "Function Description\n",
    "\n",
    "Complete the function compareTriplets with the following parameter(s):\n",
    "\n",
    "    int a[3]: Alice's challenge rating\n",
    "    int b[3]: Bob's challenge rating\n",
    "\n",
    "Returns\n",
    "\n",
    "    int[2]: the first element is Alice's score and the second is Bob's score\n",
    "\n",
    "Input Format\n",
    "\n",
    "The first line contains 3 space-separated integers, a[0], a[1], and a[2], the respective values in triplet a.\n",
    "The second line contains 3 space-separated integers, b[0], b[1], and b[2], the respective values in triplet b.\n",
    "\n",
    "Constraints\n",
    "\n",
    "    1 ≤ a[i] ≤ 100\n",
    "    1 ≤ b[i] ≤ 100\n",
    "\n",
    "Sample Input 0\n",
    "\n",
    "5 6 7\n",
    "3 6 10\n",
    "\n",
    "Sample Output 0\n",
    "\n",
    "1 1\n"
   ]
  },
  {
   "cell_type": "markdown",
   "id": "fa8ae9c0",
   "metadata": {},
   "source": [
    "https://www.hackerrank.com/challenges/compare-the-triplets/problem?isFullScreen=true"
   ]
  },
  {
   "cell_type": "code",
   "execution_count": null,
   "id": "be97e89c",
   "metadata": {},
   "outputs": [
    {
     "name": "stdout",
     "output_type": "stream",
     "text": [
      "[1, 1]\n"
     ]
    }
   ],
   "source": [
    "#\n",
    "# Complete the 'compareTriplets' function below.\n",
    "#\n",
    "# The function is expected to return an INTEGER_ARRAY.\n",
    "# The function accepts following parameters:\n",
    "#  1. INTEGER_ARRAY a\n",
    "#  2. INTEGER_ARRAY b\n",
    "#\n",
    "\n",
    "def compareTriplets(a, b):\n",
    "    Alice , Bob = 0, 0\n",
    "    for i in range(len(a)):\n",
    "        if a[i] > b[i]:\n",
    "            Alice += 1\n",
    "        elif a[i] < b[i]:\n",
    "            Bob += 1\n",
    "        else:\n",
    "            continue\n",
    "    return [Alice, Bob]\n",
    "\n",
    "if __name__ == '__main__':\n",
    "    a = [2,3,1]\n",
    "    b = [1,3,4]\n",
    "    result = compareTriplets(a, b)\n",
    "    print(result)"
   ]
  }
 ],
 "metadata": {
  "kernelspec": {
   "display_name": "Python 3",
   "language": "python",
   "name": "python3"
  },
  "language_info": {
   "codemirror_mode": {
    "name": "ipython",
    "version": 3
   },
   "file_extension": ".py",
   "mimetype": "text/x-python",
   "name": "python",
   "nbconvert_exporter": "python",
   "pygments_lexer": "ipython3",
   "version": "3.12.0"
  }
 },
 "nbformat": 4,
 "nbformat_minor": 5
}
